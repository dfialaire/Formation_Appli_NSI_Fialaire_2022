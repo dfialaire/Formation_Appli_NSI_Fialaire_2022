{
 "cells": [
  {
   "cell_type": "markdown",
   "metadata": {},
   "source": [
    "<img src=\"img/titre.jpg\">"
   ]
  },
  {
   "cell_type": "markdown",
   "metadata": {},
   "source": [
    "<div style=\"font-size: 1.3em;\">\n",
    "<u><b>Contenu</b></u> :<br><br>\n",
    "</div>\n",
    "<a href=\"#-I.-Exemples-d'applications-en-ligne-:-\" > I. Exemples d'applications en ligne : </a><br />\n",
    "<a href=\"#-II.-Pourquoi-travailler-avec-un-Jupyter-Notebook-:-Ce-que-fait-Voila-:-\" > II. Pourquoi travailler avec un Jupyter Notebook : Ce que fait Voila : </a><br />\n",
    "<a href=\"#-III.-Téléchargement-/-installation-:-\" > III. Téléchargement / installation : </a><br />\n",
    "<ul>\n",
    "    <li><a href=\"#-III.a-Téléchargement-/installation-d'Anaconda-(Python++)-:-\" > III.a Téléchargement /installation d'Anaconda (Python++) : </a><br /></li>\n",
    "    <li><a href=\"#-III.b-Téléchargement-/installation-de-Jupyter-Notebook-:-\" > III.b Téléchargement /installation de Jupyter Notebook : </a><br /></li>\n",
    "    <li><a href=\"#-III.c-Téléchargement-/installation-de-Voila-:-\" > III.c Téléchargement /installation de Voila : </a><br /></li>\n",
    "    <li><a href=\"#-III.d-Création-d'une-nouvelle-adresse-Gmail-(facultatif)-:-\" > III.d Création d'une nouvelle adresse Gmail (facultatif) : </a><br /></li>\n",
    "    <li><a href=\"#-III.e-Création-d'un-compte-Github-:-\" > III.e Création d'un compte Github : </a><br /></li>\n",
    "    <li><a href=\"#-III.f-Création-d'un-compte-Heroku-(à-titre-informel..)-:-\" > III.f Création d'un compte Heroku (à titre informel..) : </a><br /></li>\n",
    "    <li><a href=\"#-III.g-Création-d'un-compte-Render-:-\" > III.g Création d'un compte Render : </a><br /></li>\n",
    "</ul>\n",
    "\n"
   ]
  },
  {
   "cell_type": "markdown",
   "metadata": {},
   "source": [
    "<div style=\"border:2px solid green;margin:0px 10px 10px 10px;padding:10px;\">\n",
    "<u><h2> I. Exemples d'applications en ligne : </h2></u>\n",
    "    \n",
    "<a href=\"https://iris-denomb-bact-fialaire-david.onrender.com\" target=\"_blank\">Appli de dénombrement bactérien</a>\n",
    "\n",
    "<a href=\"https://applis-nsi-fialaire-david.onrender.com/\" target=\"_blank\">Applis_NSI</a> \n"
   ]
  },
  {
   "cell_type": "markdown",
   "metadata": {},
   "source": [
    "<div style=\"border:2px solid blue;margin:0px 10px 10px 10px;padding:10px;\">\n",
    "<u><h2> II. Pourquoi travailler avec un Jupyter Notebook : Ce que fait Voila : </h2></u><br>\n",
    "    Lorsqu'on utilise un <b>éditeur de code</b> en <b>Python</b> : IDLE ( Integrated DeveLopment Environment )<br>\n",
    "<ul>\n",
    "    Cela génère des fenêtres de travail (interfaces graphiques générées par PyQt, TKinter..)<br>\n",
    "    <ul>        \n",
    "        <li><u>Spyder</u> : </li>\n",
    "        <img src=\"img/spyder.jpg\">\n",
    "        <li><u>Visual Studio Code</u> :</li>\n",
    "        <img src=\"img/MS_VS.jpg\">\n",
    "    </ul>\n",
    "<br>\n",
    "Lorsque vous ouvrez un <b><span style=\"color:chocolate\">Jupyter Notebook</span></b>, la fenêtre qui s'ouvre est un <b><u>navigateur</u></b> :\n",
    "<img src=\"img/Notebook.jpg\">\n",
    "    Dès lors, nous avons du <b>code Python qui s'exprime dans un navigateur</b><br>\n",
    "    <ul>\n",
    "        <u>On s'est donc rapproché de notre but</u> : <span style=\"color:DodgerBlue\">Créer une application en Python qui s'exprime sur le Web, c'est à dire via un navigateur</span>...<br>\n",
    "        <br><ul><i><u>Pb. </u> : le Jupyter Notebook dans le navigateur nous présente le code...</i></ul><br><br>\n",
    "<u>Solution</u> : <a href=\"Matrice_demo_voila.ipynb\" target=\"_blank\">Ce que fait Voila</a>"
   ]
  },
  {
   "cell_type": "markdown",
   "metadata": {},
   "source": [
    "<u><h2> III. Téléchargement / installation : </h2></u>"
   ]
  },
  {
   "cell_type": "markdown",
   "metadata": {},
   "source": [
    "<div style=\"text-align:center; border:0px ;background-color:FireBrick;margin:10px 10px 0px 10px;padding:10px;\">\n",
    "    </div>\n",
    "<div style=\"border:2px solid red;margin:0px 10px 10px 10px;padding:10px;\">   \n",
    "<img src=\"img/anaconda_.png\" width=\"50px\" align=\"left\"/>  \n",
    "<br><u><h2> III.a Téléchargement /installation d'Anaconda (Python++) : </h2></u>\n",
    "    <b><i><span style=\"color:green\">Vous permet d'avoir Python, et surtout <u>Jupyter Notebook</u>.</span></i></b>   \n",
    "<br><br><u>Vous rendre à cette URL</u> :\n",
    "    \n",
    "https://www.anaconda.com/products/distribution#Downloads"
   ]
  },
  {
   "cell_type": "markdown",
   "metadata": {},
   "source": [
    "<div style=\"text-align:center; border:0px ;background-color:FireBrick;margin:10px 10px 0px 10px;padding:10px;\">\n",
    "    </div>\n",
    "<div style=\"border:2px solid red;margin:0px 10px 10px 10px;padding:10px;\">\n",
    "<img src=\"img/jupyter notebook.png\" width=\"50px\" align=\"left\"/>\n",
    "<br><u><h2> III.b Téléchargement /installation de Jupyter Notebook : </h2></u>   \n",
    "    <b><i><span style=\"color:chocolate\">Indispensable pour réaliser des Applis en ligne en Python</u>.</span></i></b> \n",
    "<br><br><u>Ouvrir une invite de commande (cmd)</u> : \n",
    "<ul>\n",
    "    <li>On va d'abord tester si 'pip' est à jour dans notre système :</li><br>\n",
    "    <ul>\n",
    "        <b>pip3 install --upgrade pip</b><br>\n",
    "        <i>( ou : anaconda3\\python.exe -m pip install --upgrade pip )</i>\n",
    "    </ul><br>\n",
    "    <li>puis on va pouvoir installer le jupyter notebook :</li><br>\n",
    "    <ul>\n",
    "        <b>pip3 install jupyter</b>\n",
    "    </ul>\n",
    "<br>\n",
    "<i><u>Voici un lien vers la doc complète</u> :</i>\n",
    "\n",
    "https://docs.jupyter.org/en/latest/install/notebook-classic.html"
   ]
  },
  {
   "cell_type": "markdown",
   "metadata": {},
   "source": [
    "<div style=\"text-align:center; border:0px ;background-color:FireBrick;margin:10px 10px 0px 10px;padding:10px;\">\n",
    "    </div>\n",
    "<div style=\"border:2px solid red;margin:0px 10px 10px 10px;padding:10px;\"> \n",
    "<img src=\"img/voila_.png\" width=\"50px\" align=\"left\"/>\n",
    "<br><u><h2> III.c Téléchargement /installation de Voila : </h2></u>\n",
    "<b><i><span style=\"color:DarkCyan\">Indispensable pour éliminer le code du visuel de l'Appli</u>.</span></i></b>\n",
    "<br><br><u>Ouvrir une invite de commande (cmd) et entrer</u> : \n",
    "<ul>\n",
    "    <b>pip3 install voila\n",
    "    <br><br>voila --enable_nbextensions=True\n",
    "    <br><br>jupyter notebook --VoilaConfiguration.enable_nbextensions=True</b></ul>\n",
    "<i><u>Voici un lien vers la doc complète</u> :</i>\n",
    "\n",
    "https://voila.readthedocs.io/en/stable/"
   ]
  },
  {
   "cell_type": "markdown",
   "metadata": {},
   "source": [
    "<div style=\"text-align:center; border:0px ;background-color:FireBrick;margin:10px 10px 0px 10px;padding:10px;\">\n",
    "    </div>\n",
    "<div style=\"border:2px solid red;margin:0px 10px 10px 10px;padding:10px;\">   \n",
    "<img src=\"img/gmail.png\" width=\"50px\" align=\"left\"/>  \n",
    "<br><u><h2> III.d Création d'une nouvelle adresse Gmail (facultatif) : </h2></u>\n",
    "    <b><i><span style=\"color:blue\">Vous permet</span><span style=\"color:red\"> de gérer efficacement</span><span style=\"color:orange\"> les autorisations pour </span><span style=\"color:green\"><u>Github</u> et <u>render</u>.</span></i></b>   \n",
    "<br><br><u>Pour créer une nouvelle adresse Gmail, se rendre à l'adresse</u> :\n",
    "    \n",
    "https://accounts.google.com/signup/v2/webcreateaccount?flowName=GlifWebSignIn&flowEntry=SignUp"
   ]
  },
  {
   "cell_type": "markdown",
   "metadata": {},
   "source": [
    "<div style=\"text-align:center; border:0px ;background-color:FireBrick;margin:10px 10px 0px 10px;padding:10px;\">\n",
    "    </div>\n",
    "<div style=\"border:2px solid red;margin:0px 10px 10px 10px;padding:10px;\"> \n",
    "<img src=\"img/github.png\" width=\"50px\" align=\"left\"/>\n",
    "<br><u><h2> III.e Création d'un compte Github : </h2></u>\n",
    "<b><i><span style=\"color:DimGray\">Permet le stockage des fichiers (public/privé) : indispensable pour construire l'Appli</u>.</span></i></b>\n",
    "<br><br>Vous rendre à :<br>\n",
    "\n",
    "https://github.com/\n",
    "\n",
    "<ul>\n",
    "    <li>Cliquez sur : Sign up</li>\n",
    "    <li>Entrez une adresse mail (Attention : 1 compte Github / adresse mail !)</li>\n",
    "    <li>Définissez un mot de passe</li>\n",
    "    <li>Définissez un nom usuel</li>\n",
    "    <li>Validez le test : je ne suis pas un robot.</li>\n",
    "    <li>Cliquez sur Créez l'accompte</li>\n",
    "    <li>Vérifiez/Récupérez dans votre boîte mail le code d'accès..</li>\n",
    "    <li>Remplissez le formulaire</li>\n",
    "</ul>\n",
    "<ul>\n",
    "        <li>Cliquez sur : Continue for free</li>\n",
    "</ul>\n",
    "<b><span style = \"color: green\">ça y est, vous avez un compte Github !</span></b>"
   ]
  },
  {
   "cell_type": "markdown",
   "metadata": {},
   "source": [
    "<div style=\"text-align:center; border:0px ;background-color:FireBrick;margin:10px 10px 0px 10px;padding:10px;\">\n",
    "    </div>\n",
    "<div style=\"border:2px solid red;margin:0px 10px 10px 10px;padding:10px;\"> \n",
    "<img src=\"img/heroku.png\" width=\"75px\" align=\"left\"/>\n",
    "<br><u><h2> III.f Création d'un compte Heroku (à titre informel..) : </h2></u>\n",
    "<b><i><span style=\"color:Indigo \">Plateforme de déploiement en ligne d'applications (devenue payante le 28/11/22 !).</span></i></b>\n",
    "<br><br>Vous rendre à : <br>\n",
    "\n",
    "https://www.heroku.com/\n",
    "<ul>\n",
    "    <li>Cliquez sur les barres de menu</li>\n",
    "    <li>Cliquez sur : Sign up</li>\n",
    "    <li>Remplissez le formulaire en mettant :</li>\n",
    "    <ul>\n",
    "            <li>L'adresse mail utilisée pour le compte Github</li>\n",
    "            <li>En choisissant : Python : comme 1er language de développement</li>\n",
    "    </ul>\n",
    "    <li>Cliquez sur : I'm not a robot, puis sur : Create free account</li>\n",
    "    <ul>\n",
    "        <li>Vérifiez votre boite mail pour cliquer sur le lien heroku validant le compte</li>\n",
    "        <li>Définissez un mot de passe et validez pour vous identifier</li>\n",
    "        <li>Validez les 'termes of service' en cliquant sur Accept.</li>\n",
    "    </ul>\n",
    "    <li>Cliquez sur le menu (3x3 points) : et sélectionnez : Dashbord (tableau de bord)</li>\n",
    "\n",
    "<b><span style = \"color: green\">ça y est, vous avez un compte Heroku ! (<i>payant</i>)</span></b>"
   ]
  },
  {
   "cell_type": "markdown",
   "metadata": {},
   "source": [
    "<div style=\"text-align:center; border:0px ;background-color:FireBrick;margin:10px 10px 0px 10px;padding:10px;\">\n",
    "    </div>\n",
    "<div style=\"border:2px solid red;margin:0px 10px 10px 10px;padding:10px;\"> \n",
    "<img src=\"img/render.jpg\" width=\"50px\" align=\"left\"/>\n",
    "<br><u><h2> III.g Création d'un compte Render : </h2></u>\n",
    "<b><i><span style=\"color:LightSeaGreen \">Plateforme de déploiement en ligne d'applications .</span></i></b>\n",
    "<br><br>Vous rendre à : <br>\n",
    "\n",
    "https://www.render.com/\n",
    "<ul>\n",
    "    <li>Cliquez, en haut à droite, sur GET STARTED,</li>\n",
    "    </ul>\n",
    "    <i>Pour simplifier l'accès au compte Render, et aux depôts Github, nous allons<br>\n",
    "        nous créer un compte via Github..</i>\n",
    "    <ul>\n",
    "        <li>Cliquez sur Github</li>\n",
    "        <ul>\n",
    "            <li>Inscrivez l'adresse mail qui vous a servi à créer un compte Github, \n",
    "            <li>Renseignez le mot de passe de votre compte Github..</li>\n",
    "            <li>et cliquez sur <b>Sign in</b></li>\n",
    "<br>\n",
    "            <li>Vous recevez alors un mail de demande de confirmation de <b>Github</b>..</li>\n",
    "            <ul>\n",
    "                <li>Dedans se trouve un nombre à 6 chiffres.. inscrivez ce nombre dans le formulaire qui apparait.</li>\n",
    "            </ul>\n",
    "            <i><u>Ps</u> : Vous recevez alors un mail de Github pour vous signaler cette inter-connexion</i>\n",
    "            <ul>\n",
    "                <li>Cliquez alors sur le bouton vert <span style=\"color:green\"><b>Autorize Render</b></span></li>\n",
    "                <li>Cliquez ensuite sur le bouton bleu <span style=\"color:blue\"><b>COMPLETE SIGN UP</b></span></li>\n",
    "            </ul>\n",
    "<br>\n",
    "            <li>Ensuite, vous devez ouvrir votre boite mail, pour lire le mail envoyé par <b>Render</b>, et cliquer sur le lien qui vous permettra de finaliser l'activation de votre compte Render.</li>\n",
    "\n",
    "<b><span style = \"color: green\">ça y est, vous avez un compte Render ! (gratuit)</span>"
   ]
  },
  {
   "cell_type": "code",
   "execution_count": null,
   "metadata": {},
   "outputs": [],
   "source": []
  }
 ],
 "metadata": {
  "kernelspec": {
   "display_name": "Python 3 (ipykernel)",
   "language": "python",
   "name": "python3"
  },
  "language_info": {
   "codemirror_mode": {
    "name": "ipython",
    "version": 3
   },
   "file_extension": ".py",
   "mimetype": "text/x-python",
   "name": "python",
   "nbconvert_exporter": "python",
   "pygments_lexer": "ipython3",
   "version": "3.8.8"
  }
 },
 "nbformat": 4,
 "nbformat_minor": 2
}
