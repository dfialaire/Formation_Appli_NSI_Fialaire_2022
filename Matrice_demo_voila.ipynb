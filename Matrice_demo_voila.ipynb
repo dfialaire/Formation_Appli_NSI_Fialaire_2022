{
 "cells": [
  {
   "cell_type": "code",
   "execution_count": null,
   "id": "10933487",
   "metadata": {},
   "outputs": [],
   "source": [
    "import matplotlib\n",
    "from matplotlib.pyplot import *\n",
    "import PIL.Image\n",
    "from PIL import *\n",
    "import numpy as np\n",
    "from ipywidgets import *\n",
    "import io"
   ]
  },
  {
   "cell_type": "code",
   "execution_count": null,
   "id": "ca2ee452",
   "metadata": {
    "scrolled": false
   },
   "outputs": [],
   "source": [
    "#################################\n",
    "def compress_to_bytes(data, fmt):\n",
    "    \"\"\"\n",
    "    Helper function to compress image data via PIL/Pillow.\n",
    "    \"\"\"\n",
    "    buff = io.BytesIO()\n",
    "    img = PIL.Image.fromarray(data)    \n",
    "    img.save(buff, format=fmt)\n",
    "    return buff.getvalue()\n",
    "##########\n",
    "####################################################\n",
    "\"\"\" Réduit une image array utilisant Pil \"\"\"\n",
    "def imresize(im,sz):\n",
    "    im.resize(sz, refcheck=False)\n",
    "    return im\n",
    "####################################################\n",
    "def presente_image(reponse):\n",
    "    if reponse == \"o\":\n",
    "        print(\"Voici votre image pixellisée.\")\n",
    "        pil_im = PIL.Image.open(\"Img/python.png\", mode='r')\n",
    "        x = 20\n",
    "        size=(x,x)\n",
    "        pil_matrice = PIL.Image.fromarray(np.uint8(pil_im))\n",
    "        pil_im_resize = pil_im.resize(size)\n",
    "        image = np.array(pil_im_resize)\n",
    "        imshow(image)\n",
    "        axis('off')\n",
    "    else:\n",
    "        print(\"Voici votre image non pixellisée.\")\n",
    "        pil_im = PIL.Image.open(\"Img/python.png\", mode='r')\n",
    "        pil_matrice = PIL.Image.fromarray(np.uint8(pil_im))\n",
    "        image = np.array(pil_matrice)\n",
    "        imshow(image)\n",
    "        axis('off')\n",
    "def presente_image2(_):\n",
    "    val = Choix.value\n",
    "    if val ==\"pas d'image\" :\n",
    "        pixeliz_w.disabled=True\n",
    "        image_w.layout.display = \"none\"\n",
    "    if val == \"image pixélisée\":\n",
    "        pixeliz_w.disabled=False\n",
    "        pil_im = PIL.Image.open(\"Img/python.png\", mode='r')\n",
    "        val = pixeliz_w.value\n",
    "        x = 280 - val\n",
    "        size=(x,x)\n",
    "        pil_matrice = PIL.Image.fromarray(np.uint8(pil_im))\n",
    "        pil_im_resize = pil_im.resize(size)\n",
    "        image = np.array(pil_im_resize)\n",
    "        fmt = 'png'\n",
    "        data_comp = compress_to_bytes(image, fmt)\n",
    "        image_w.value=data_comp  \n",
    "        \n",
    "        image_w.layout.display = \"block\"\n",
    "        \n",
    "    elif val == \"image non pixélisée\":\n",
    "        pixeliz_w.disabled=True\n",
    "        image_w.value = image_w_origin.value\n",
    "        image_w.layout.display = \"block\"\n",
    "def pixel_f(_):\n",
    "    if Choix.value != \"image non pixélisée\":\n",
    "\n",
    "        pil_im = PIL.Image.open(\"Img/python.png\", mode='r')\n",
    "        val = pixeliz_w.value\n",
    "        x = 280 - val\n",
    "        size=(x,x)\n",
    "        pil_matrice = PIL.Image.fromarray(np.uint8(pil_im))\n",
    "        pil_im_resize = pil_im.resize(size)\n",
    "        image = np.array(pil_im_resize)\n",
    "        fmt = 'png'\n",
    "        data_comp = compress_to_bytes(image, fmt)\n",
    "        image_w.value=data_comp  \n",
    "\n",
    "        image_w.layout.display = \"block\"    "
   ]
  },
  {
   "cell_type": "markdown",
   "id": "79b146c9",
   "metadata": {},
   "source": [
    "## Ce que fait voila"
   ]
  },
  {
   "cell_type": "markdown",
   "id": "ec6a4eb3",
   "metadata": {},
   "source": [
    "<span style=\"color:blue\"><b><u>Voici une image introduite via une balise HTML 'img' dans une cellule Markdown</u> :</b></span>\n"
   ]
  },
  {
   "cell_type": "markdown",
   "id": "459bcf81",
   "metadata": {},
   "source": [
    "<img src=\"Img/python.png\" width=\"200px\">"
   ]
  },
  {
   "cell_type": "code",
   "execution_count": null,
   "id": "3d036ba0",
   "metadata": {
    "scrolled": false
   },
   "outputs": [],
   "source": [
    "reponse = input(\"Voulez-vous une image pixellisée ? (o/n) : \")\n",
    "# reponse = \"o\"\n",
    "presente_image(reponse)"
   ]
  },
  {
   "cell_type": "code",
   "execution_count": null,
   "id": "31186aa5",
   "metadata": {
    "scrolled": false
   },
   "outputs": [],
   "source": [
    "# print(\"Voulez-vous une image pixellisée ? (o/n) ou pas d'image : \")\n",
    "# Choix = widgets.Dropdown(\n",
    "#     options=[\"pas d'image\",'image pixélisée','image non pixélisée'],\n",
    "#     value=\"pas d'image\",\n",
    "#     description='Votre choix :'\n",
    "# )\n",
    "# Choix.observe(presente_image2, names='value')\n",
    "# display(Choix)"
   ]
  },
  {
   "cell_type": "code",
   "execution_count": null,
   "id": "4f4f671e",
   "metadata": {
    "scrolled": true
   },
   "outputs": [],
   "source": [
    "# pixeliz_w = widgets.IntSlider(min = 0, max = 275,  value = 0 , description='Pixelisation')\n",
    "# pixeliz_w.observe(pixel_f, names='value')\n",
    "# pixeliz_w.disabled=True\n",
    "# display(pixeliz_w)"
   ]
  },
  {
   "cell_type": "code",
   "execution_count": null,
   "id": "d6311f06",
   "metadata": {},
   "outputs": [],
   "source": [
    "# file = open(\"Img/python.png\", \"rb\")\n",
    "# image = file.read()\n",
    "# image_w = widgets.Image(\n",
    "#     value=image,\n",
    "#     format='png',\n",
    "#     width=200\n",
    "# )\n",
    "# ###\n",
    "# image_w_origin = widgets.Image(\n",
    "#     format='png',\n",
    "#     width=200\n",
    "# )\n",
    "# image_w_origin.value = image_w.value\n",
    "# image_w.layout.display = \"none\"\n",
    "# display(image_w)"
   ]
  }
 ],
 "metadata": {
  "kernelspec": {
   "display_name": "Python 3 (ipykernel)",
   "language": "python",
   "name": "python3"
  },
  "language_info": {
   "codemirror_mode": {
    "name": "ipython",
    "version": 3
   },
   "file_extension": ".py",
   "mimetype": "text/x-python",
   "name": "python",
   "nbconvert_exporter": "python",
   "pygments_lexer": "ipython3",
   "version": "3.8.8"
  }
 },
 "nbformat": 4,
 "nbformat_minor": 5
}
